{
 "cells": [
  {
   "cell_type": "markdown",
   "metadata": {},
   "source": [
    "# Estructures de control\n",
    "\n",
    "+ ## **Exercici 1**\n",
    "    + L'exercici consisteix a crear un programa que et classifiqui una variable numèrica en funció de l’escala Suspès/Aprovat/Notable/Excel·lent.\n",
    "\n",
    "+ ## **Exercici 2**\n",
    "    + Utilitzant el següent tutorial Programiz: Python Input, Output and Import crea un programa que et pregunti dos números. T’ha de mostrar un missatge dient si el primer és més gran, el segon és més gran o són iguals.\n",
    "\n",
    "+ ## **Exercici 3**\n",
    "    + Crea un programa que et pregunti el teu nom, i et demani un número. Si el número és 0, hauria de mostrar un missatge d’error. En cas contrari, hauria de mostrar el nom repetit tants cops com indiqui el número. Per exemple, “Joan Joan Joan”.\n",
    "\n",
    "+ ## **Exercici 4**\n",
    "    + Crea un programa que donada una llista qualsevol, et digui si es simètrica o no. Si ho és, que et digui quants elements té.\n",
    "\n",
    "+ ## **Exercici 5**\n",
    "    + Crea un programa que donada una llista, et digui quants números coincideixen amb la seva posició. Per exemple [3,4,2,0,2,3,6] el 2 i el 6 coincideixen."
   ]
  },
  {
   "cell_type": "code",
   "execution_count": 19,
   "metadata": {},
   "outputs": [
    {
     "name": "stdout",
     "output_type": "stream",
     "text": [
      "Introduce un numero:-1\n",
      "Fora de rang: <0 o >10\n"
     ]
    }
   ],
   "source": [
    "#Exercici 1\n",
    "\n",
    "x = int(input(\"Introduce un numero:\"))\n",
    "\n",
    "if x>=0 and x<5:\n",
    "    print(\"Suspès\")\n",
    "elif x >=5 and x<8:\n",
    "    print(\"Aprovat\")\n",
    "elif x>=8 and x<9:\n",
    "    print (\"Notable\")\n",
    "elif x>=9 and x<=10:\n",
    "    print (\"Excel·lent\")\n",
    "else:\n",
    "    print(\"Fora de rang: <0 o >10\")\n",
    "    "
   ]
  },
  {
   "cell_type": "code",
   "execution_count": 42,
   "metadata": {},
   "outputs": [
    {
     "name": "stdout",
     "output_type": "stream",
     "text": [
      "Introduce un número3\n",
      "Introduce un número2\n",
      "El 3 és més gran i el 2 és més petit\n"
     ]
    }
   ],
   "source": [
    "#Exercici 2\n",
    "import math\n",
    "\n",
    "numeros = []\n",
    "\n",
    "for i in range (0,2):\n",
    "    num=int(input(\"Introduce un número\"))\n",
    "    numeros.append(num)\n",
    "else:\n",
    "    if max(numeros)==min(numeros):\n",
    "        print(\"Son iguales\")\n",
    "    else:\n",
    "        print(\"El {} és més gran i el {} és més petit\".format(max(numeros),min(numeros)))\n",
    "\n",
    "#Donat que s'han de provar loops i condicionals, he optat x aquesta manera menys fàcil.\n",
    "#Al haver de reportar-se 2 numeros es fa servir la funció max i min per determinar quin és més gran i quin més petit\n",
    "#en cas de que siguin iguals, el max i min seran iguals, en cas contrari, no ho serà.\n",
    "\n"
   ]
  },
  {
   "cell_type": "code",
   "execution_count": 44,
   "metadata": {},
   "outputs": [
    {
     "name": "stdout",
     "output_type": "stream",
     "text": [
      "El teu nom és?a\n",
      "Quantes repeticions?0\n",
      "Error, has introduir un valor superior a 0\n"
     ]
    }
   ],
   "source": [
    "#Exercici 3\n",
    "#Crea un programa que et pregunti el teu nom, i et demani un número. \n",
    "#Si el número és 0, hauria de mostrar un missatge d’error. \n",
    "#En cas contrari, hauria de mostrar el nom repetit tants cops com indiqui el número. \n",
    "#Per exemple, “Joan Joan Joan”.\n",
    "\n",
    "nom=input(\"El teu nom és?\")\n",
    "repeticions=int(input(\"Quantes repeticions?\"))\n",
    "\n",
    "if repeticions<=0:\n",
    "    print(\"Error, has introduir un valor superior a 0\")\n",
    "else:\n",
    "    for i in range(repeticions):\n",
    "        print (nom)\n",
    "        \n",
    "        \n",
    "        "
   ]
  },
  {
   "cell_type": "code",
   "execution_count": 76,
   "metadata": {},
   "outputs": [
    {
     "name": "stdout",
     "output_type": "stream",
     "text": [
      "Son diferents.\n",
      "La llista [2, 3, 4, 5, 4, 3, 1] és diferent al seu invers [1, 3, 4, 5, 4, 3, 2]\n"
     ]
    }
   ],
   "source": [
    "#Exercici 4\n",
    "#Crea un programa que donada una llista qualsevol, et digui si es simètrica o no. \n",
    "#Si ho és, que et digui quants elements té.\n",
    "\n",
    "\n",
    "llista = [2,3,4,5,4,3,1]\n",
    "\n",
    "if llista == llista[::-1]:\n",
    "    print(\"Son iguals.\\nLa llista {} és iguals al seu invers {}\".format(llista, llista[::-1]))\n",
    "    \n",
    "else:\n",
    "    print(\"Son diferents.\\nLa llista {} és diferent al seu invers {}\".format(llista, llista[::-1]))\n",
    "\n"
   ]
  },
  {
   "cell_type": "code",
   "execution_count": 97,
   "metadata": {},
   "outputs": [
    {
     "name": "stdout",
     "output_type": "stream",
     "text": [
      "El 2 coincideix amb la seva posició/index 2\n",
      "El 6 coincideix amb la seva posició/index 6\n",
      "Valors:\t [3, 4, 2, 0, 2, 3, 6]\n",
      "Index:\t [0, 1, 2, 3, 4, 5, 6]\n"
     ]
    }
   ],
   "source": [
    "#Exercici 5\n",
    "#Crea un programa que donada una llista, et digui quants números coincideixen amb la seva posició.\n",
    "#Per exemple [3,4,2,0,2,3,6] el 2 i el 6 coincideixen.\n",
    "\n",
    "llista_nums = [3, 4, 2, 0, 2, 3, 6]\n",
    "\n",
    "#for i in range(len(llista_nums)):\n",
    "#    if i == llista_nums[i]:\n",
    "#        print(\"El {} coincideix amb la seva posició/index {}\".format(llista_nums[i], i))\n",
    "\n",
    "for (i, item) in enumerate(llista_nums):\n",
    "    if i == item:\n",
    "        print(\"El {} coincideix amb la seva posició/index {}\".format(item, i))\n",
    "\n",
    "print(\"Valors:\\t\",llista_nums)\n",
    "print(\"Index:\\t\",[i for i,item in enumerate(llista_nums)])"
   ]
  },
  {
   "cell_type": "code",
   "execution_count": null,
   "metadata": {},
   "outputs": [],
   "source": []
  }
 ],
 "metadata": {
  "kernelspec": {
   "display_name": "Python 3",
   "language": "python",
   "name": "python3"
  },
  "language_info": {
   "codemirror_mode": {
    "name": "ipython",
    "version": 3
   },
   "file_extension": ".py",
   "mimetype": "text/x-python",
   "name": "python",
   "nbconvert_exporter": "python",
   "pygments_lexer": "ipython3",
   "version": "3.8.5"
  },
  "latex_envs": {
   "LaTeX_envs_menu_present": true,
   "autoclose": false,
   "autocomplete": true,
   "bibliofile": "biblio.bib",
   "cite_by": "apalike",
   "current_citInitial": 1,
   "eqLabelWithNumbers": true,
   "eqNumInitial": 1,
   "hotkeys": {
    "equation": "Ctrl-E",
    "itemize": "Ctrl-I"
   },
   "labels_anchors": false,
   "latex_user_defs": false,
   "report_style_numbering": false,
   "user_envs_cfg": false
  },
  "varInspector": {
   "cols": {
    "lenName": 16,
    "lenType": 16,
    "lenVar": 40
   },
   "kernels_config": {
    "python": {
     "delete_cmd_postfix": "",
     "delete_cmd_prefix": "del ",
     "library": "var_list.py",
     "varRefreshCmd": "print(var_dic_list())"
    },
    "r": {
     "delete_cmd_postfix": ") ",
     "delete_cmd_prefix": "rm(",
     "library": "var_list.r",
     "varRefreshCmd": "cat(var_dic_list()) "
    }
   },
   "types_to_exclude": [
    "module",
    "function",
    "builtin_function_or_method",
    "instance",
    "_Feature"
   ],
   "window_display": false
  }
 },
 "nbformat": 4,
 "nbformat_minor": 4
}
